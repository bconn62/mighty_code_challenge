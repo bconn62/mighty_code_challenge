{
 "cells": [
  {
   "cell_type": "markdown",
   "metadata": {},
   "source": [
    "### 1. Pull case id, plaintiff name, attorney name, and lien description for liens held by the lienholder with the name 'General Assembly'."
   ]
  },
  {
   "cell_type": "code",
   "execution_count": null,
   "metadata": {},
   "outputs": [],
   "source": [
    "sql = \"\"\"\n",
    "SELECT cases.id, plaintiffs.name, attornies.name, liens.description\n",
    "FROM cases\n",
    "    JOIN plaintiffs \n",
    "        ON cases.plaintiff_id = plaintiff.id\n",
    "    JOIN attornies\n",
    "        ON cases.attorney_id = attornies.id\n",
    "    JOIN liens\n",
    "        ON cases.id = liens.case_id\n",
    "    JOIN lienholders\n",
    "        ON liens.lienholders_id = lienholders.id\n",
    "WHERE lienholders.name = \"General Assembly\";\n",
    "\"\"\"\n",
    "\n",
    "# df = pd.read_sql_query(sql, engine)\n",
    "# df.head()"
   ]
  },
  {
   "cell_type": "markdown",
   "metadata": {},
   "source": [
    "### 2. Find all unique attorneys, along with their contact info, that are assigned to one or more cases that haven’t had a case update in 72 days"
   ]
  },
  {
   "cell_type": "code",
   "execution_count": null,
   "metadata": {},
   "outputs": [],
   "source": [
    "sql = \"\"\"\n",
    "SELECT DISTINCT attornies.*\n",
    "FROM attornies\n",
    "    JOIN cases\n",
    "        ON attornies.id = cases.attorney_id\n",
    "    JOIN case_updates\n",
    "        ON case_updates.case_id = cases.id\n",
    "WHERE case_updates.created_at <= \"2018-12-11\";\n",
    "\"\"\"\n",
    "\n",
    "# df = pd.read_sql_query(sql, engine)\n",
    "# df.head()\n",
    "\n",
    "\n",
    "# I'm unsure how to make a constant 72-day check in date. The way I set it up, it'd have to be updated every day"
   ]
  },
  {
   "cell_type": "markdown",
   "metadata": {},
   "source": [
    "### 3. (optional) – Rank law firms (id, name) by number of cases associated with it"
   ]
  },
  {
   "cell_type": "code",
   "execution_count": null,
   "metadata": {},
   "outputs": [],
   "source": [
    "sql = \"\"\"\n",
    "SELECT law_firms.id, law_firms.name\n",
    "FROM law_firms\n",
    "    JOIN party_relationships \n",
    "        ON party_relationships.lawfirm_id = law_firm.id\n",
    "    JOIN attornies \n",
    "        ON attornies.id = party_relationships.attorney_id\n",
    "    JOIN cases\n",
    "        ON cases.attorney_id = attornies.id\n",
    "GROUP BY law_firms.name\n",
    "ORDER BY COUNT(cases.id) DES;     \n",
    "\"\"\"\n",
    "\n",
    "# df = pd.read_sql_query(sql, engine)\n",
    "# df.head()"
   ]
  },
  {
   "cell_type": "markdown",
   "metadata": {},
   "source": [
    "### 4. For cases that haven't have an update in 72 days, get each case’s status based on if the liens associated are open or closed."
   ]
  },
  {
   "cell_type": "code",
   "execution_count": null,
   "metadata": {},
   "outputs": [],
   "source": [
    "sql = \"\"\"\n",
    "SELECT liens.case_id,\n",
    "    CASE\n",
    "        WHEN liens.open = ALL (SELECT liens.open FROM liens WHERE liens.open = TRUE) \n",
    "            THEN \"OPEN\"\n",
    "        WHEN liens.open = ALL (SELECT liens.open FROM liens WHERE liens.open = FALSE) \n",
    "            THEN \"SETTLED\"\n",
    "        ELSE \"PARTIAL\"\n",
    "    END AS case_status\n",
    "FROM liens\n",
    "    JOIN cases\n",
    "        ON liens.case_id = cases.id\n",
    "    JOIN case_updates\n",
    "        ON cases.id = case_updates.case_id\n",
    "WHERE case_updates.created_at <= \"2018-12-11\";\n",
    "\"\"\"\n",
    "\n",
    "# df = pd.read_sql_query(sql, engine)\n",
    "# df.head()"
   ]
  }
 ],
 "metadata": {
  "kernelspec": {
   "display_name": "Python 3",
   "language": "python",
   "name": "python3"
  },
  "language_info": {
   "codemirror_mode": {
    "name": "ipython",
    "version": 3
   },
   "file_extension": ".py",
   "mimetype": "text/x-python",
   "name": "python",
   "nbconvert_exporter": "python",
   "pygments_lexer": "ipython3",
   "version": "3.6.5"
  }
 },
 "nbformat": 4,
 "nbformat_minor": 2
}
